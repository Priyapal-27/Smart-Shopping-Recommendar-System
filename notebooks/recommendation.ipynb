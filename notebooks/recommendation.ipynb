{
 "cells": [
  {
   "cell_type": "code",
   "execution_count": 2,
   "id": "73ead845",
   "metadata": {},
   "outputs": [
    {
     "name": "stdout",
     "output_type": "stream",
     "text": [
      "Customers Data:\n",
      "   Customer_ID  Age  Gender   Location                 Browsing_History  \\\n",
      "0       C1000   28  Female    Chennai             ['Books', 'Fashion']   \n",
      "1       C1001   27    Male      Delhi  ['Books', 'Fitness', 'Fashion']   \n",
      "2       C1002   34   Other    Chennai                  ['Electronics']   \n",
      "3       C1003   23    Male  Bangalore                   ['Home Decor']   \n",
      "4       C1004   24   Other    Kolkata        ['Fashion', 'Home Decor']   \n",
      "\n",
      "                               Purchase_History    Customer_Segment  \\\n",
      "0                        ['Biography', 'Jeans']         New Visitor   \n",
      "1  ['Biography', 'Resistance Bands', 'T-shirt']  Occasional Shopper   \n",
      "2                                ['Smartphone']  Occasional Shopper   \n",
      "3                                  ['Wall Art']      Frequent Buyer   \n",
      "4                             ['Shoes', 'Lamp']      Frequent Buyer   \n",
      "\n",
      "   Avg_Order_Value Holiday  Season  \n",
      "0          4806.99      No  Winter  \n",
      "1           795.03     Yes  Autumn  \n",
      "2          1742.45     Yes  Summer  \n",
      "3          2023.16      No  Autumn  \n",
      "4           794.76      No  Winter   \n",
      "\n",
      "Products Data:\n",
      "   Product_ID     Category Subcategory  Price    Brand  \\\n",
      "0      P2000      Fashion       Jeans   1713  Brand B   \n",
      "1      P2001       Beauty    Lipstick   1232  Brand C   \n",
      "2      P2002  Electronics      Laptop   4833  Brand B   \n",
      "3      P2003        Books      Comics   4902  Brand D   \n",
      "4      P2004   Home Decor    Cushions    856  Brand C   \n",
      "\n",
      "   Average_Rating_of_Similar_Products  Product_Rating  \\\n",
      "0                                 4.2             2.3   \n",
      "1                                 4.7             2.1   \n",
      "2                                 3.5             2.4   \n",
      "3                                 3.4             4.2   \n",
      "4                                 3.2             3.3   \n",
      "\n",
      "   Customer_Review_Sentiment_Score Holiday  Season Geographical_Location  \\\n",
      "0                             0.26      No  Summer                Canada   \n",
      "1                             0.21     Yes  Winter                 India   \n",
      "2                             0.74     Yes  Spring                Canada   \n",
      "3                             0.80      No  Winter               Germany   \n",
      "4                             0.08     Yes  Summer                   USA   \n",
      "\n",
      "                         Similar_Product_List  Probability_of_Recommendation  \n",
      "0                          ['Jeans', 'Shoes']                           0.91  \n",
      "1     ['Moisturizer', 'Lipstick', 'Lipstick']                           0.26  \n",
      "2  ['Headphones', 'Headphones', 'Smartphone']                           0.60  \n",
      "3      ['Biography', 'Non-fiction', 'Comics']                           0.36  \n",
      "4                                    ['Lamp']                           0.37  \n"
     ]
    }
   ],
   "source": [
    "import pandas as pd\n",
    "\n",
    "# Load both CSV files\n",
    "customers = pd.read_csv(\"customer_data_collection.csv\")\n",
    "products = pd.read_csv(\"product_recommendation_data.csv\")\n",
    "\n",
    "# Remove extra 'Unnamed' columns (auto-generated from CSV exports)\n",
    "customers = customers.loc[:, ~customers.columns.str.contains('^Unnamed')]\n",
    "products = products.loc[:, ~products.columns.str.contains('^Unnamed')]\n",
    "\n",
    "# Show first few rows\n",
    "print(\"Customers Data:\\n\", customers.head(), \"\\n\")\n",
    "print(\"Products Data:\\n\", products.head())\n"
   ]
  },
  {
   "cell_type": "code",
   "execution_count": 3,
   "id": "49033cfe",
   "metadata": {},
   "outputs": [
    {
     "name": "stdout",
     "output_type": "stream",
     "text": [
      "  Customer_ID                              Purchase_History\n",
      "0       C1000                        ['biography', 'jeans']\n",
      "1       C1001  ['biography', 'resistance bands', 't-shirt']\n",
      "2       C1002                                ['smartphone']\n",
      "3       C1003                                  ['wall art']\n",
      "4       C1004                             ['shoes', 'lamp']\n",
      "  Product_ID Subcategory\n",
      "0      P2000       jeans\n",
      "1      P2001    lipstick\n",
      "2      P2002      laptop\n",
      "3      P2003      comics\n",
      "4      P2004    cushions\n"
     ]
    }
   ],
   "source": [
    "# Convert to lowercase and strip spaces\n",
    "customers['Purchase_History'] = customers['Purchase_History'].astype(str).str.lower().str.strip()\n",
    "products['Subcategory'] = products['Subcategory'].astype(str).str.lower().str.strip()\n",
    "\n",
    "# Check if cleaned\n",
    "print(customers[['Customer_ID', 'Purchase_History']].head())\n",
    "print(products[['Product_ID', 'Subcategory']].head())\n"
   ]
  },
  {
   "cell_type": "code",
   "execution_count": 4,
   "id": "13f51706",
   "metadata": {},
   "outputs": [
    {
     "name": "stdout",
     "output_type": "stream",
     "text": [
      "\n",
      "Customer ID: C1000\n",
      "Purchase History: ['biography', 'jeans']\n",
      "Recommended Products:\n",
      "Empty DataFrame\n",
      "Columns: [Product_ID, Category, Subcategory, Probability_of_Recommendation]\n",
      "Index: []\n",
      "\n",
      "Customer ID: C1001\n",
      "Purchase History: ['biography', 'resistance bands', 't-shirt']\n",
      "Recommended Products:\n",
      "Empty DataFrame\n",
      "Columns: [Product_ID, Category, Subcategory, Probability_of_Recommendation]\n",
      "Index: []\n",
      "\n",
      "Customer ID: C1002\n",
      "Purchase History: ['smartphone']\n",
      "Recommended Products:\n",
      "Empty DataFrame\n",
      "Columns: [Product_ID, Category, Subcategory, Probability_of_Recommendation]\n",
      "Index: []\n",
      "\n",
      "Customer ID: C1003\n",
      "Purchase History: ['wall art']\n",
      "Recommended Products:\n",
      "Empty DataFrame\n",
      "Columns: [Product_ID, Category, Subcategory, Probability_of_Recommendation]\n",
      "Index: []\n",
      "\n",
      "Customer ID: C1004\n",
      "Purchase History: ['shoes', 'lamp']\n",
      "Recommended Products:\n",
      "Empty DataFrame\n",
      "Columns: [Product_ID, Category, Subcategory, Probability_of_Recommendation]\n",
      "Index: []\n"
     ]
    }
   ],
   "source": [
    "# Function to recommend products based on Purchase History\n",
    "def recommend_products(purchase_history):\n",
    "    matched_products = products[products['Subcategory'].isin(purchase_history.split(','))]\n",
    "    return matched_products[['Product_ID', 'Category', 'Subcategory', 'Probability_of_Recommendation']]\n",
    "\n",
    "# Apply this function to each customer\n",
    "customers['Recommended_Products'] = customers['Purchase_History'].apply(recommend_products)\n",
    "\n",
    "# Show recommendations for first 5 customers\n",
    "for index, row in customers.head(5).iterrows():\n",
    "    print(f\"\\nCustomer ID: {row['Customer_ID']}\")\n",
    "    print(f\"Purchase History: {row['Purchase_History']}\")\n",
    "    print(\"Recommended Products:\")\n",
    "    print(row['Recommended_Products'])\n"
   ]
  }
 ],
 "metadata": {
  "kernelspec": {
   "display_name": "Python 3",
   "language": "python",
   "name": "python3"
  },
  "language_info": {
   "codemirror_mode": {
    "name": "ipython",
    "version": 3
   },
   "file_extension": ".py",
   "mimetype": "text/x-python",
   "name": "python",
   "nbconvert_exporter": "python",
   "pygments_lexer": "ipython3",
   "version": "3.13.2"
  }
 },
 "nbformat": 4,
 "nbformat_minor": 5
}
